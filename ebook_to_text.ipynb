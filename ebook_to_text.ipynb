{
  "nbformat": 4,
  "nbformat_minor": 0,
  "metadata": {
    "colab": {
      "name": "ebook_to_text.ipynb",
      "provenance": [],
      "collapsed_sections": [],
      "include_colab_link": true
    },
    "kernelspec": {
      "name": "python3",
      "display_name": "Python 3"
    }
  },
  "cells": [
    {
      "cell_type": "markdown",
      "metadata": {
        "id": "view-in-github",
        "colab_type": "text"
      },
      "source": [
        "<a href=\"https://colab.research.google.com/github/ZA3karia/PDF2TEXT/blob/master/ebook_to_text.ipynb\" target=\"_parent\"><img src=\"https://colab.research.google.com/assets/colab-badge.svg\" alt=\"Open In Colab\"/></a>"
      ]
    },
    {
      "cell_type": "code",
      "metadata": {
        "id": "TgaV8FEVj8sb",
        "colab_type": "code",
        "outputId": "59de1ac6-b3a9-4727-962c-44baf5ba2897",
        "colab": {
          "base_uri": "https://localhost:8080/",
          "height": 241
        }
      },
      "source": [
        "!pip install ebooklib"
      ],
      "execution_count": 0,
      "outputs": [
        {
          "output_type": "stream",
          "text": [
            "Collecting ebooklib\n",
            "\u001b[?25l  Downloading https://files.pythonhosted.org/packages/00/38/7d6ab2e569a9165249619d73b7bc6be0e713a899a3bc2513814b6598a84c/EbookLib-0.17.1.tar.gz (111kB)\n",
            "\u001b[K     |████████████████████████████████| 112kB 5.0MB/s \n",
            "\u001b[?25hRequirement already satisfied: lxml in /usr/local/lib/python3.6/dist-packages (from ebooklib) (4.2.6)\n",
            "Requirement already satisfied: six in /usr/local/lib/python3.6/dist-packages (from ebooklib) (1.12.0)\n",
            "Building wheels for collected packages: ebooklib\n",
            "  Building wheel for ebooklib (setup.py) ... \u001b[?25l\u001b[?25hdone\n",
            "  Created wheel for ebooklib: filename=EbookLib-0.17.1-cp36-none-any.whl size=38164 sha256=c2bacdb8a07b99e3900a0203ac9dce8795fade9e01babc240bd261e2fdb9d221\n",
            "  Stored in directory: /root/.cache/pip/wheels/84/11/01/951369cbbf8f96878786a1f4da68bd7ac19a5d945b38e03d54\n",
            "Successfully built ebooklib\n",
            "Installing collected packages: ebooklib\n",
            "Successfully installed ebooklib-0.17.1\n"
          ],
          "name": "stdout"
        }
      ]
    },
    {
      "cell_type": "code",
      "metadata": {
        "id": "rashXQzpj6sO",
        "colab_type": "code",
        "colab": {}
      },
      "source": [
        "import ebooklib\n",
        "from ebooklib import epub\n",
        "from bs4 import BeautifulSoup"
      ],
      "execution_count": 0,
      "outputs": []
    },
    {
      "cell_type": "markdown",
      "metadata": {
        "id": "rMke7MAWFug4",
        "colab_type": "text"
      },
      "source": [
        "#Geting the HTML out\n",
        "I will be getting a path of the epub file, then I will turn it to a list of html, each html is a chapter (I believe).\n",
        "\n",
        "It is I believe xhtml, I but I've put its content in a file.txt, and I was able to open it in the browser and view the content, therefore I will keep calling it html during this project to simplify, \"but its NOT\".\n",
        "\n",
        "I used the ebooklib library to extract the html out of the epub file using the \"item.get_content()\""
      ]
    },
    {
      "cell_type": "code",
      "metadata": {
        "id": "ZgqxkYQ80hcn",
        "colab_type": "code",
        "colab": {}
      },
      "source": [
        "def epub2thtml(epub_path):\n",
        "    book = epub.read_epub(epub_path)\n",
        "    chapters = []\n",
        "    for item in book.get_items():\n",
        "        if item.get_type() == ebooklib.ITEM_DOCUMENT:\n",
        "            chapters.append(item.get_content())\n",
        "    return chapters"
      ],
      "execution_count": 0,
      "outputs": []
    },
    {
      "cell_type": "markdown",
      "metadata": {
        "id": "gp5QRvxeHzNP",
        "colab_type": "text"
      },
      "source": [
        "# We got the  HTML, now where is my text?\n",
        "ok if you visualise the output, it is full of html bracket. my text is to be fed to a machine to learn from it, I dont want it to get confsed with the bracket, \"I,myself was confused with the HTML brackets\". \n",
        "So I will be usin a very friendly framework, Beautifull soup that is basicly used to get content from the web and scrap it. \n",
        "I dont have content on the web, but I do have its format! therefore, It should be just good :)\n",
        "\n",
        "now first I get the noise bracket out and choose the time of content I want, then I will scrape it all, put it in a text variable, apply it on every html of a chapter, an I will have a list of texts of each chapter.  "
      ]
    },
    {
      "cell_type": "markdown",
      "metadata": {
        "id": "GfMqzmnhz0Ym",
        "colab_type": "text"
      },
      "source": [
        "to understand further more the use of beautifullsoup check: https://matix.io/extract-text-from-webpage-using-beautifulsoup-and-python/  "
      ]
    },
    {
      "cell_type": "code",
      "metadata": {
        "id": "C-B0nGqQzdDZ",
        "colab_type": "code",
        "colab": {}
      },
      "source": [
        "blacklist = [\n",
        "\t'[document]',\n",
        "\t'noscript',\n",
        "\t'header',\n",
        "\t'html',\n",
        "\t'meta',\n",
        "\t'head', \n",
        "\t'input',\n",
        "\t'script',\n",
        "\t# there may be more elements you don't want, such as \"style\", etc.\n",
        "]\n",
        "def chap2text(chap):\n",
        "    output = ''\n",
        "    soup = BeautifulSoup(chap, 'html.parser')\n",
        "    text = soup.find_all(text=True)\n",
        "    for t in text:\n",
        "        if t.parent.name not in blacklist:\n",
        "            output += '{} '.format(t)\n",
        "    return output\n"
      ],
      "execution_count": 0,
      "outputs": []
    },
    {
      "cell_type": "code",
      "metadata": {
        "id": "iMJP-r3Fz8B1",
        "colab_type": "code",
        "colab": {}
      },
      "source": [
        "def thtml2ttext(thtml):\n",
        "    Output = []\n",
        "    for html in thtml:\n",
        "        text =  chap2text(html)\n",
        "        Output.append(text)\n",
        "    return Output\n"
      ],
      "execution_count": 0,
      "outputs": []
    },
    {
      "cell_type": "code",
      "metadata": {
        "id": "jPDyldJv1IR_",
        "colab_type": "code",
        "colab": {}
      },
      "source": [
        "def epub2text(epub_path):\n",
        "    chapters = epub2thtml(epub_path)\n",
        "    ttext = thtml2ttext(chapters)\n",
        "    return ttext\n",
        "\n"
      ],
      "execution_count": 0,
      "outputs": []
    },
    {
      "cell_type": "code",
      "metadata": {
        "id": "KkrfrrKi2FHz",
        "colab_type": "code",
        "colab": {}
      },
      "source": [
        "out = epub2text('/content/[Franz_Kafka,_John_Updike]_The_Complete_Stories(z-lib.org).epub')"
      ],
      "execution_count": 0,
      "outputs": []
    },
    {
      "cell_type": "markdown",
      "metadata": {
        "id": "PZAhuFNVJKVQ",
        "colab_type": "text"
      },
      "source": [
        "#Done\n",
        "now the process finished lets see the result"
      ]
    },
    {
      "cell_type": "code",
      "metadata": {
        "id": "655qYKDx2UYU",
        "colab_type": "code",
        "colab": {}
      },
      "source": [
        "out"
      ],
      "execution_count": 0,
      "outputs": []
    },
    {
      "cell_type": "markdown",
      "metadata": {
        "id": "IoXVLiKxJTp7",
        "colab_type": "text"
      },
      "source": [
        "Ok I have some \"\\n\" noise but I need it to separate content,\n",
        "the first 2 lines means nothing basicly, but the rest is rich of content. so I might call it a Day.\n",
        "\n",
        "feel free to ask me if you didnt understand a line, and feel free to contribute."
      ]
    }
  ]
}